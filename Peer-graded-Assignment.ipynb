{
  "metadata": {
    "kernelspec": {
      "name": "python",
      "display_name": "Python (Pyodide)",
      "language": "python"
    },
    "language_info": {
      "codemirror_mode": {
        "name": "python",
        "version": 3
      },
      "file_extension": ".py",
      "mimetype": "text/x-python",
      "name": "python",
      "nbconvert_exporter": "python",
      "pygments_lexer": "ipython3",
      "version": "3.8"
    }
  },
  "nbformat_minor": 4,
  "nbformat": 4,
  "cells": [
    {
      "cell_type": "markdown",
      "source": "# Peer-graded Assignment",
      "metadata": {}
    },
    {
      "cell_type": "markdown",
      "source": "In this notebook, Data Science Tools and Ecosystem are summarized.",
      "metadata": {}
    },
    {
      "cell_type": "markdown",
      "source": "**Objectives:**\n\n* List popular languages for Data Science.\n* Introduce common data science libraries.\n* Showcase basic arithmetic expression evaluation in Python.\n* Demonstrate code execution for data manipulation (converting minutes to hours).\n* Provide a structured overview of key topics covered.",
      "metadata": {}
    },
    {
      "cell_type": "markdown",
      "source": "Some of the popular languages that Data Scientists use are:\n\n1. **Python:** A versatile and widely used language for data science, offering extensive libraries like NumPy, Pandas, Scikit-learn for data manipulation, analysis, and machine learning.\n2. **R:** A powerful language specifically designed for statistical computing and graphics. It provides a rich set of tools for data exploration, modeling, and visualization.\n3. **SQL:** Not strictly a programming language, but essential for querying and manipulating data stored in relational databases.\n",
      "metadata": {}
    },
    {
      "cell_type": "markdown",
      "source": "Some of the commonly used libraries used by Data Scientists include:\n\n1. **NumPy:** Provides powerful arrays and mathematical operations for numerical computing.\n2. **Pandas:** Offers high-performance data structures like DataFrames and Series for data manipulation and analysis.\n3. **Scikit-learn:** A comprehensive library for machine learning algorithms, including classification, regression, clustering, and more.\n4. **Matplotlib:** A versatile library for creating various static, animated, and interactive visualizations.\n5. **Seaborn:** Built on top of Matplotlib, it offers a high-level interface for creating statistical graphics.\n",
      "metadata": {}
    },
    {
      "cell_type": "code",
      "source": "| Data Science Tools |\n|---|---|\n| Jupyter Notebook |\n| RStudio |\n| Visual Studio Code |",
      "metadata": {
        "trusted": true
      },
      "outputs": [],
      "execution_count": null
    },
    {
      "cell_type": "markdown",
      "source": "### Below are a few examples of evaluating arithmetic expressions in Python:",
      "metadata": {}
    },
    {
      "cell_type": "code",
      "source": "print((3*4)+5)",
      "metadata": {
        "trusted": true
      },
      "outputs": [],
      "execution_count": null
    },
    {
      "cell_type": "code",
      "source": "print(200/60)",
      "metadata": {
        "trusted": true
      },
      "outputs": [],
      "execution_count": null
    },
    {
      "cell_type": "markdown",
      "source": "## Author\nManal",
      "metadata": {}
    }
  ]
}